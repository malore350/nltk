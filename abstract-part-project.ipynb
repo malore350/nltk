{
 "cells": [
  {
   "cell_type": "code",
   "execution_count": 21,
   "metadata": {
    "collapsed": true,
    "ExecuteTime": {
     "end_time": "2023-05-13T13:24:24.079468500Z",
     "start_time": "2023-05-13T13:24:24.044318Z"
    }
   },
   "outputs": [],
   "source": [
    "import re\n",
    "import PyPDF2"
   ]
  },
  {
   "cell_type": "code",
   "execution_count": 22,
   "outputs": [
    {
     "name": "stdout",
     "output_type": "stream",
     "text": [
      "Large-scale pre-trained language models have\n",
      "shown outstanding performance in a variety\n",
      "of NLP tasks. However, they are also known\n",
      "to be signiﬁcantly brittle against speciﬁcally\n",
      "crafted adversarial examples, leading to in-\n",
      "creasing interest in probing the adversarial ro-\n",
      "bustness of NLP systems. We introduce RSMI,\n",
      "a novel two-stage framework that combines\n",
      "randomized smoothing (RS) with masked in-\n",
      "ference (MI) to improve the adversarial robust-\n",
      "ness of NLP systems. RS transforms a classi-\n",
      "ﬁer into a smoothed classiﬁer to obtain robust\n",
      "representations, whereas MI forces a model to\n",
      "exploit the surrounding context of a masked\n",
      "token in an input sequence. RSMI improves\n",
      "adversarial robustness by 2 to 3 times over ex-\n",
      "isting state-of-the-art methods on benchmark\n",
      "datasets. We also perform in-depth qualita-\n",
      "tive analysis to validate the effectiveness of\n",
      "the different stages of RSMI and probe the\n",
      "impact of its components through extensive\n",
      "ablations. By empirically proving the stabil-\n",
      "ity of RSMI, we put it forward as a practi-\n",
      "cal method to robustly train large-scale NLP\n",
      "models. Our code and datasets are available at\n",
      "https\n"
     ]
    }
   ],
   "source": [
    "# Read in the research paper data\n",
    "pdf_file = open('file2.pdf', 'rb')\n",
    "\n",
    "# Create a PDF reader object\n",
    "pdf_reader = PyPDF2.PdfReader(pdf_file)\n",
    "num_pages = len(pdf_reader.pages)\n",
    "\n",
    "# Loop through all the pages in the PDF document and extract the text\n",
    "text = \"\"\n",
    "for i in range(num_pages):\n",
    "    # Get the page object\n",
    "    page = pdf_reader.pages[i]\n",
    "\n",
    "    # Extract the text from the page\n",
    "    page_text = page.extract_text()\n",
    "\n",
    "    # Append the text to the document text\n",
    "    text += page_text\n",
    "\n",
    "# Close the PDF file\n",
    "pdf_file.close()\n",
    "\n",
    "\n",
    "# Define a regular expression to match the word \"References\" and everything that follows it\n",
    "references_pattern = re.compile(r'References(.*)', re.DOTALL)\n",
    "\n",
    "# Use the regular expression to remove the text after \"References\"\n",
    "text = references_pattern.sub('', text)\n",
    "\n",
    "# Define a regular expression to match equations\n",
    "equations_pattern = re.compile(r'.*?=.+')\n",
    "\n",
    "\n",
    "# Use regular expressions to extract the content of the Abstract section\n",
    "abstract_match = re.search(r\"Abstract\\s*([^:]+)\", text)\n",
    "\n",
    "if abstract_match:\n",
    "    abstract_content = abstract_match.group(1).strip()\n",
    "    print(abstract_content)\n",
    "else:\n",
    "    print(\"Abstract section not found.\")"
   ],
   "metadata": {
    "collapsed": false,
    "ExecuteTime": {
     "end_time": "2023-05-13T13:24:24.829312900Z",
     "start_time": "2023-05-13T13:24:24.056509900Z"
    }
   }
  },
  {
   "cell_type": "markdown",
   "source": [
    "Saving in JSON format"
   ],
   "metadata": {
    "collapsed": false
   }
  },
  {
   "cell_type": "code",
   "execution_count": 23,
   "outputs": [],
   "source": [
    "import json\n",
    "\n",
    "# Create a dictionary to store the abstract text\n",
    "data = {\n",
    "    \"category\": \"abstract\",\n",
    "    \"text\": abstract_content\n",
    "}\n",
    "\n",
    "# Save the abstract data to JSON file\n",
    "with open(\"data.json\", \"a\") as json_file:\n",
    "    json.dump(data, json_file)\n",
    "    json_file.write('\\n')"
   ],
   "metadata": {
    "collapsed": false,
    "ExecuteTime": {
     "end_time": "2023-05-13T13:24:24.872619800Z",
     "start_time": "2023-05-13T13:24:24.831322200Z"
    }
   }
  }
 ],
 "metadata": {
  "kernelspec": {
   "display_name": "Python 3",
   "language": "python",
   "name": "python3"
  },
  "language_info": {
   "codemirror_mode": {
    "name": "ipython",
    "version": 2
   },
   "file_extension": ".py",
   "mimetype": "text/x-python",
   "name": "python",
   "nbconvert_exporter": "python",
   "pygments_lexer": "ipython2",
   "version": "2.7.6"
  }
 },
 "nbformat": 4,
 "nbformat_minor": 0
}
